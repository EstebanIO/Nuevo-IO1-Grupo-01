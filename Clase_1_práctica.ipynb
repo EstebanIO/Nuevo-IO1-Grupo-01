{
  "nbformat": 4,
  "nbformat_minor": 0,
  "metadata": {
    "colab": {
      "provenance": [],
      "authorship_tag": "ABX9TyN3NCkzzNWugYpmsWZ3D7in",
      "include_colab_link": true
    },
    "kernelspec": {
      "name": "python3",
      "display_name": "Python 3"
    },
    "language_info": {
      "name": "python"
    }
  },
  "cells": [
    {
      "cell_type": "markdown",
      "metadata": {
        "id": "view-in-github",
        "colab_type": "text"
      },
      "source": [
        "<a href=\"https://colab.research.google.com/github/EstebanIO/Nuevo-IO1-Grupo-01/blob/main/Clase_1_pr%C3%A1ctica.ipynb\" target=\"_parent\"><img src=\"https://colab.research.google.com/assets/colab-badge.svg\" alt=\"Open In Colab\"/></a>"
      ]
    },
    {
      "cell_type": "markdown",
      "source": [
        "##Esto es un título"
      ],
      "metadata": {
        "id": "4cF2soaIyoYn"
      }
    },
    {
      "cell_type": "markdown",
      "source": [
        "###Esto es un subtítulo"
      ],
      "metadata": {
        "id": "d8b8STIwyrRW"
      }
    },
    {
      "cell_type": "code",
      "source": [
        "print(\"Hola, mundo\")"
      ],
      "metadata": {
        "colab": {
          "base_uri": "https://localhost:8080/"
        },
        "id": "2GHM-g7CzZx3",
        "outputId": "45f74310-e6ea-46f6-a9a1-15e4b5eab2ad"
      },
      "execution_count": 5,
      "outputs": [
        {
          "output_type": "stream",
          "name": "stdout",
          "text": [
            "Hola, mundo\n"
          ]
        }
      ]
    }
  ]
}